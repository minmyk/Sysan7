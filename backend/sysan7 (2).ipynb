{
 "cells": [
  {
   "cell_type": "code",
   "execution_count": 18,
   "metadata": {
    "pycharm": {
     "is_executing": false
    }
   },
   "outputs": [],
   "source": [
    "import numpy as np\n",
    "from copy import copy\n",
    "from functools import reduce\n",
    "import networkplotter as plotter\n",
    "import backend.create_swot_table as swot\n",
    "import pandas as pd"
   ]
  },
  {
   "cell_type": "code",
   "execution_count": 18,
   "metadata": {
    "pycharm": {
     "is_executing": false
    }
   },
   "outputs": [],
   "source": []
  },
  {
   "cell_type": "code",
   "execution_count": 19,
   "metadata": {
    "pycharm": {
     "is_executing": false
    }
   },
   "outputs": [],
   "source": [
    "def form_sw_table(SWOT, t_count):\n",
    "    sw = SWOT.index\n",
    "    sw_table = np.zeros((len(sw), len(sw)))\n",
    "    \n",
    "    for i in range(len(sw) - 1):\n",
    "        for j in range(i + 1, len(sw)):\n",
    "            weight = 0\n",
    "            for k in range(len(SWOT.iloc[i])):\n",
    "                weight = weight - min(SWOT.iloc[i][k], SWOT.iloc[j][k]) if k < t_count \\\n",
    "                else weight + min(SWOT.iloc[i][k], SWOT.iloc[j][k])\n",
    "           \n",
    "            \n",
    "            sw_table[i, j] = round(weight, 5)\n",
    "    \n",
    "    sw_table = sw_table + sw_table.T\n",
    "    print(sw_table[0, :])\n",
    "    sw = pd.DataFrame({SWOT.index[i]: sw_table[:, i] for i in range(sw_table.shape[1])}, index=SWOT.index)\n",
    "    return sw\n",
    "            \n",
    "\n",
    "class Node(object):\n",
    "    \n",
    "    \n",
    "    def __init__(self, name, value):\n",
    "        self.name = name\n",
    "        self.value = value\n",
    "        self.connections = dict()\n",
    "    \n",
    "    \n",
    "    def set_connections(self, connections):\n",
    "        for connection in connections:\n",
    "            self.connections[connection[1]] = connection[0]\n",
    "      \n",
    "    \n",
    "    def set_weight(self, connection):\n",
    "        self.connections[connection[1]] = connection[0]\n",
    "    \n",
    "    \n",
    "    def set_value(self, value):\n",
    "        self.value = value\n",
    "    \n",
    "    \n",
    "    def remove_connection(self, node):\n",
    "        try:\n",
    "            self.connections.pop(node)\n",
    "        except KeyError:\n",
    "            print(\"No connection detected\")\n",
    "    \n",
    "    \n",
    "    def __str__(self):\n",
    "        return self.name\n",
    "    \n",
    "    \n",
    "class Graph(object):\n",
    "    \n",
    "    \n",
    "    def __init__(self, name):\n",
    "        self.name = name\n",
    "        self.nodes = []\n",
    "        self.A = []\n",
    "    \n",
    "    def from_pandas(self, SWOT, SW, s_count):\n",
    "        nodes = dict()\n",
    "        \n",
    "        for index in SWOT.index:\n",
    "            value = 0\n",
    "            row = SWOT.loc[index]\n",
    "            for i in range(len(row)):\n",
    "                value = value + row[i]\n",
    "            nodes[index] = Node(index, value)\n",
    "            \n",
    "        for column in SWOT.columns:\n",
    "            value = 0\n",
    "            col = SWOT[column]\n",
    "            for i in range(len(col)):\n",
    "                value = value + col[i] if i < s_count else value - col[i]\n",
    "            nodes[column] = Node(column, value)\n",
    "        \n",
    "        for index in SWOT.index:\n",
    "            for column in SWOT.columns:\n",
    "                if SWOT.loc[index][column] != 0:\n",
    "                    nodes[index].set_weight([SWOT.loc[index][column], nodes[column]])\n",
    "                    nodes[column].set_weight([SWOT.loc[index][column], nodes[index]])\n",
    "        \n",
    "        for index in SW.index:\n",
    "            for column in SW.columns:\n",
    "                nodes[index].set_weight([SW.loc[index][column], nodes[column]]) \\\n",
    "                if SW.loc[index][column] != 0 else 0\n",
    "                \n",
    "        self.set_nodes(list(nodes.values()))\n",
    "        \n",
    "             \n",
    "            \n",
    "    \n",
    "    def form_subgraphs(self, clusters):\n",
    "        clusters_keys = list(clusters.keys())\n",
    "        clusters_values  = list(clusters.values())\n",
    "        subgraphs = []\n",
    "        \n",
    "        for cluster in clusters_keys:\n",
    "            value = reduce(lambda x, y: x.value + y.value, clusters[cluster]) \\\n",
    "            if len(clusters[cluster]) > 1 else clusters[cluster][0].value \n",
    "            \n",
    "            subgraphs.append(Node(cluster,value))    \n",
    "        \n",
    "        for i in range(len(clusters)):\n",
    "            connections = []\n",
    "            for j in range(len(clusters)):\n",
    "                weight = 0\n",
    "                for node_left in clusters_values[i]:\n",
    "                    for node_right in node_left.connections.keys():\n",
    "                        additive = node_left.connections[node_right] if node_right in clusters_values[j] \\\n",
    "                        and not node_right in clusters_values[i] else 0\n",
    "                        weight += additive\n",
    "                connections.append([weight, subgraphs[j]])\n",
    "           \n",
    "            subgraphs[i].set_connections(connections)\n",
    "        \n",
    "        aggregated = Graph('aggregated')\n",
    "        aggregated.set_nodes(subgraphs)\n",
    "        return aggregated\n",
    "    \n",
    "    \n",
    "    def set_nodes(self, nodes):\n",
    "        self.nodes = nodes\n",
    "     \n",
    "    \n",
    "    def add_node(self, node):\n",
    "        self.nodes.append(node)\n",
    "        \n",
    "        \n",
    "    def remove_node(self, node):\n",
    "        try:\n",
    "            self.nodes.remove(node)\n",
    "        except ValueError:\n",
    "            print(\"no node \" + str(node) + \" in the graph\")\n",
    "    \n",
    "    \n",
    "    def __str__(self):\n",
    "        return self.name\n",
    "    \n",
    "    \n",
    "    def form_connection_matrix(self):\n",
    "        self.A = np.zeros((len(self.nodes), len(self.nodes)))\n",
    "        for i in range(len(self.nodes)):\n",
    "            \n",
    "            connection_nodes = list(self.nodes[i].connections.keys())\n",
    "            for j in range(len(self.nodes)):\n",
    "                self.A[i, j] = self.nodes[i].connections[self.nodes[j]] \\\n",
    "                if self.nodes[j] in connection_nodes else 0\n",
    "        \n",
    "        return self.A\n",
    "    \n",
    "    \n",
    "    def update_values(self, nodes_values):\n",
    "        for node in self.nodes:\n",
    "            node.set_value(nodes_values[node])\n",
    "    \n",
    "    \n",
    "    def send_impulses(self, impulses):\n",
    "        previous = np.zeros((len(self.nodes), 1))\n",
    "        current = np.array([[node.value] for node in self.nodes])\n",
    "        for impulse in impulses:\n",
    "            new = current + self.A.T @  (current - previous) + impulse\n",
    "            nodes_values = {self.nodes[i]: current[i, 0]   for i in range(len(self.nodes))}\n",
    "            previous = current\n",
    "            current = new\n",
    "            self.update_values(nodes_values)\n",
    "        \n",
    "        print(current)\n",
    "        \n",
    "    def search_cycles(self, verbose = False):\n",
    "        cycles = set()\n",
    "        for node in self.nodes:\n",
    "            layer = 0\n",
    "            vertexes = dict()\n",
    "            vertexes[layer] = {node}\n",
    "            while True:\n",
    "                nexts = set()\n",
    "                previous_layers = reduce(lambda x, y: x.union(y), list(vertexes.values())[: layer]) if layer > 0 else []\n",
    "                for vertex in vertexes[layer]:\n",
    "                    if vertex not in previous_layers:\n",
    "                        for next_vertex in vertex.connections.keys():\n",
    "                            nexts.add(next_vertex)\n",
    "                \n",
    "                layer += 1\n",
    "                if nexts != set():\n",
    "                    vertexes[layer] = nexts\n",
    "                else:\n",
    "                    break  \n",
    "            \n",
    "            for length in range(1, len(vertexes)):\n",
    "                if node in vertexes[length]:\n",
    "                    chains = np.array([[0.,node]])\n",
    "                    for layers in reversed(range(length)):\n",
    "                        chain = copy(chains)\n",
    "                        for nodes in vertexes[layers]:\n",
    "                            for i in range(len(chain[:,-1])):\n",
    "                                if chain[i][-1] in nodes.connections.keys():\n",
    "                                    new_chain = np.append(chain[i], nodes)\n",
    "                                    new_chain[0] = chains[i][0] + nodes.connections[chain[i][-1]]\n",
    "                                    \n",
    "                                    if len(chain[0]) == len(chains[0]):\n",
    "                                        chains = np.hstack((chains, [[0] for k in range(chains.shape[0])]))\n",
    "                                    chains = np.vstack((chains,new_chain))\n",
    "                    for arr in chains:\n",
    "                        temp = arr[1:][arr[1:] != 0]\n",
    "                        if temp[0] == temp[-1] and len(temp) > 1:\n",
    "                            cycles.add((arr[0],tuple(temp)))\n",
    "                    break\n",
    "        if verbose:\n",
    "            for cycle in cycles:\n",
    "                if cycle[0] > 0:\n",
    "                    print('\\nWeight = ', cycle[0])\n",
    "                    print(list(map(lambda val: str(val), cycle[1])))\n",
    "        return cycles\n",
    "    \n",
    "    \n",
    "    def get_eigens(self):\n",
    "        return np.linalg.eig(self.A)[0] \n",
    "    \n",
    "    \n",
    "    def stability(self):\n",
    "        print(self.get_eigens())\n",
    "        max_eigen = max(abs(self.get_eigens()))\n",
    "        if max_eigen < 1:\n",
    "            return True\n",
    "        else:\n",
    "            return False\n",
    "    "
   ]
  },
  {
   "cell_type": "code",
   "execution_count": 20,
   "metadata": {
    "pycharm": {
     "is_executing": false
    }
   },
   "outputs": [
    {
     "name": "stdout",
     "text": [
      "\n",
      "Weight =  1.1\n",
      "['A', 'C', 'A']\n",
      "\n",
      "Weight =  0.2\n",
      "['B', 'B']\n",
      "\n",
      "Weight =  0.2\n",
      "['C', 'C']\n",
      "[ 0.2 -0.4  0.6]\n"
     ],
     "output_type": "stream"
    },
    {
     "data": {
      "text/plain": "True"
     },
     "metadata": {},
     "output_type": "execute_result",
     "execution_count": 20
    }
   ],
   "source": [
    "A = Node('A', 1)\n",
    "C = Node('C', 2)\n",
    "B = Node('B', 3)\n",
    "D = Node('D', 4)\n",
    "\n",
    "impulse = [np.array([[0], [0.1], [0.5]]) if i < 10 else np.array([[0], [0], [0]]) for i in range(50)]\n",
    "\n",
    "A.set_connections([[0.8, C]])\n",
    "B.set_connections([[0.2, B], [0.3, C], [0.111, A]])\n",
    "C.set_connections([[0.2, C], [0, B], [0.3, A]])\n",
    "Cognitive_Parasha = Graph('Parasha')\n",
    "Cognitive_Parasha.set_nodes([A, B, C])\n",
    "Cognitive_Parasha.form_subgraphs({'Bois': [A], 'Parasites': [B, C]})\n",
    "Cognitive_Parasha.form_connection_matrix()\n",
    "Cognitive_Parasha.search_cycles(verbose = True)\n",
    "Cognitive_Parasha.get_eigens()\n",
    "Cognitive_Parasha.stability()\n",
    "#Cognitive_Parasha.send_impulses(impulse)"
   ]
  },
  {
   "cell_type": "code",
   "execution_count": 21,
   "metadata": {
    "pycharm": {
     "is_executing": false
    }
   },
   "outputs": [],
   "source": [
    "nodes = []\n",
    "for i in range(22):\n",
    "    nodes.append(Node(str(i), i))\n",
    "\n",
    "for node in nodes:\n",
    "    node.set_connections([[1, neighbour] if neighbour != node else [1, nodes[-1]] for neighbour in nodes[: -1]])\n",
    "\n",
    "full_graph = Graph('nodes')\n",
    "full_graph.set_nodes(nodes)\n",
    "#full_graph.search_cycles(verbose = True)"
   ]
  },
  {
   "cell_type": "code",
   "execution_count": 22,
   "metadata": {
    "pycharm": {
     "is_executing": false
    }
   },
   "outputs": [
    {
     "data": {
      "text/plain": "5"
     },
     "metadata": {},
     "output_type": "execute_result",
     "execution_count": 22
    }
   ],
   "source": [
    "max(abs(np.array([1,4,-5,3])))"
   ]
  },
  {
   "cell_type": "code",
   "execution_count": 22,
   "metadata": {
    "pycharm": {
     "is_executing": false
    }
   },
   "outputs": [],
   "source": []
  },
  {
   "cell_type": "code",
   "execution_count": 23,
   "metadata": {
    "pycharm": {
     "is_executing": false
    }
   },
   "outputs": [
    {
     "name": "stdout",
     "text": [
      "[ 0.    1.86  2.81  2.95  0.17  2.18  2.51  2.66  2.9   1.38  1.73  2.41\n",
      "  0.46  1.98  1.69  1.    1.1   0.12  1.23 -0.03  0.9   1.4   1.97 -0.86]\n",
      "[ 2.85900846e+01 -9.97287628e+00 -5.85184014e+00 -5.55717579e+00\n",
      "  4.55230816e+00 -4.55814649e+00  3.21476963e+00 -3.54710953e+00\n",
      "  2.60197103e+00 -2.96205209e+00 -2.73438740e+00 -2.59085626e+00\n",
      "  2.21787451e+00 -2.19425020e+00  2.02360730e+00 -1.89785794e+00\n",
      "  1.65365050e+00 -1.59426798e+00 -1.46342138e+00 -1.27615855e+00\n",
      " -1.25478504e+00  1.16143264e+00 -1.00552953e+00 -9.30503691e-01\n",
      "  1.05201062e+00 -7.51824701e-01  8.57329269e-01  8.26946660e-01\n",
      "  7.22285091e-01 -5.13333663e-01  5.91236606e-01  4.74684136e-01\n",
      " -3.92720579e-01 -3.45837883e-01  3.67755818e-01 -2.19008844e-01\n",
      "  2.85491485e-01 -7.04805143e-02  1.83114657e-01  1.46953229e-01\n",
      "  1.09215258e-01  5.52607865e-02  1.13410361e-02 -1.48985263e-02]\n"
     ],
     "output_type": "stream"
    },
    {
     "data": {
      "text/plain": "<networkplotter.NetworkXPlotter at 0x7f3b3a96a050>"
     },
     "metadata": {},
     "output_type": "execute_result",
     "execution_count": 23
    }
   ],
   "source": [
    "from backend.create_swot_table import Swot\n",
    "SWOT = Swot()\n",
    "sswat = SWOT.swot()[0]\n",
    "SW_table = form_sw_table(sswat, 10)\n",
    "swot_graph = Graph('swot')\n",
    "swot_graph.from_pandas(sswat, SW_table, 12)\n",
    "swot_graph.form_connection_matrix()\n",
    "swot_graph.stability()\n",
    "swot_graph.search_cycles(verbose=False)\n",
    "\n",
    "drawer = plotter.NetworkXPlotter(swot_graph)\n",
    "drawer.plot(edge_color='Black', paper_bgcolor='White')\n",
    "\n"
   ]
  },
  {
   "cell_type": "code",
   "execution_count": 24,
   "metadata": {
    "pycharm": {
     "is_executing": false
    }
   },
   "outputs": [
    {
     "data": {
      "text/plain": "<backend.create_swot_table.Swot at 0x7f3b3abc3dd0>"
     },
     "metadata": {},
     "output_type": "execute_result",
     "execution_count": 24
    }
   ],
   "source": [
    "SWOT"
   ]
  },
  {
   "cell_type": "code",
   "execution_count": 25,
   "metadata": {
    "pycharm": {
     "is_executing": false
    }
   },
   "outputs": [
    {
     "traceback": [
      "\u001b[0;31m---------------------------------------------------------------------------\u001b[0m",
      "\u001b[0;31mNameError\u001b[0m                                 Traceback (most recent call last)",
      "\u001b[0;32m<ipython-input-25-9baaa5e384a8>\u001b[0m in \u001b[0;36m<module>\u001b[0;34m\u001b[0m\n\u001b[0;32m----> 1\u001b[0;31m \u001b[0mSW_table\u001b[0m \u001b[0;34m=\u001b[0m \u001b[0mform_SW_table\u001b[0m\u001b[0;34m(\u001b[0m\u001b[0mSWOT\u001b[0m\u001b[0;34m,\u001b[0m \u001b[0;36m10\u001b[0m\u001b[0;34m)\u001b[0m\u001b[0;34m\u001b[0m\u001b[0;34m\u001b[0m\u001b[0m\n\u001b[0m\u001b[1;32m      2\u001b[0m \u001b[0;34m\u001b[0m\u001b[0m\n",
      "\u001b[0;31mNameError\u001b[0m: name 'form_SW_table' is not defined"
     ],
     "ename": "NameError",
     "evalue": "name 'form_SW_table' is not defined",
     "output_type": "error"
    }
   ],
   "source": [
    "SW_table = form_SW_table(SWOT, 10)"
   ]
  },
  {
   "cell_type": "code",
   "execution_count": null,
   "metadata": {
    "pycharm": {
     "is_executing": false
    }
   },
   "outputs": [],
   "source": [
    "[[0]]*6"
   ]
  },
  {
   "cell_type": "code",
   "execution_count": null,
   "outputs": [],
   "source": [
    "\n"
   ],
   "metadata": {
    "collapsed": false,
    "pycharm": {
     "name": "#%%\n",
     "is_executing": false
    }
   }
  }
 ],
 "metadata": {
  "kernelspec": {
   "display_name": "Python 3",
   "language": "python",
   "name": "python3"
  },
  "language_info": {
   "codemirror_mode": {
    "name": "ipython",
    "version": 3
   },
   "file_extension": ".py",
   "mimetype": "text/x-python",
   "name": "python",
   "nbconvert_exporter": "python",
   "pygments_lexer": "ipython3",
   "version": "3.7.2"
  },
  "pycharm": {
   "stem_cell": {
    "cell_type": "raw",
    "source": [],
    "metadata": {
     "collapsed": false
    }
   }
  }
 },
 "nbformat": 4,
 "nbformat_minor": 4
}