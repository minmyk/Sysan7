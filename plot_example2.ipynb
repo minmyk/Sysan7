{
 "cells": [
  {
   "cell_type": "code",
   "execution_count": 1,
   "metadata": {
    "pycharm": {
     "is_executing": false
    }
   },
   "outputs": [],
   "source": [
    "from PyQt5.QtWebEngineWidgets import QWebEngineView\n",
    "from PyQt5.QtWidgets import QApplication, QMainWindow"
   ]
  },
  {
   "cell_type": "code",
   "execution_count": 2,
   "metadata": {
    "pycharm": {
     "is_executing": false
    }
   },
   "outputs": [],
   "source": [
    "from itertools import product\n",
    "from functools import reduce\n",
    "from plotly.graph_objects import Figure, Scatter\n",
    "import plotly\n",
    "import numpy as np\n",
    "import string\n",
    "from networkplotter import NetworkXPlotter"
   ]
  },
  {
   "cell_type": "code",
   "execution_count": 3,
   "metadata": {
    "pycharm": {
     "is_executing": false
    }
   },
   "outputs": [],
   "source": [
    "import networkx as nx\n",
    "import plotly.graph_objects as go"
   ]
  },
  {
   "cell_type": "code",
   "execution_count": 4,
   "metadata": {
    "pycharm": {
     "is_executing": false
    }
   },
   "outputs": [],
   "source": [
    "class Node(object):\n",
    "    def __init__(self, name, value):\n",
    "        self.name = name\n",
    "        self.value = value\n",
    "        self.connections = dict()\n",
    "    \n",
    "    def set_connections(self, connections):\n",
    "        for connection in connections:\n",
    "            self.connections[connection[1]] = connection[0]\n",
    "      \n",
    "    def set_weight(self, connection):\n",
    "        self.connections[connection[1]] = connection[0]\n",
    "    \n",
    "    def set_value(self, value):\n",
    "        self.value = value\n",
    "    \n",
    "    def remove_connection(self, node):\n",
    "        try:\n",
    "            self.connections.pop(node)\n",
    "        except KeyError:\n",
    "            print(\"No connection detected\")\n",
    "    \n",
    "    def __str__(self):\n",
    "        return self.name\n",
    "    \n",
    "class Graph(object):\n",
    "    def __init__(self, name):\n",
    "        self.name = name\n",
    "        self.nodes = []\n",
    "        self.A = []\n",
    "        \n",
    "    def form_subgraphs(self, clusters):\n",
    "        clusters_keys = list(clusters.keys())\n",
    "        clusters_values  = list(clusters.values())\n",
    "        subgraphs = []\n",
    "        connections = []\n",
    "        \n",
    "        for cluster in clusters_keys:\n",
    "            value = reduce(lambda x, y: x.value + y.value, clusters[cluster]) \\\n",
    "            if len(clusters[cluster]) > 1 else clusters[cluster][0].value \n",
    "            \n",
    "            subgraphs.append(Node(cluster,value))    \n",
    "        \n",
    "        for i in range(len(clusters)):\n",
    "            connections = []\n",
    "            for j in range(len(clusters)):\n",
    "                weight = 0\n",
    "                for node_left in clusters_values[i]:\n",
    "                    for node_right in node_left.connections.keys():\n",
    "                        additive = node_left.connections[node_right] if node_right in clusters_values[j] \\\n",
    "                        and not node_right in clusters_values[i] else 0\n",
    "                        weight += additive\n",
    "                connections.append([weight, subgraphs[j]])\n",
    "           \n",
    "            subgraphs[i].set_connections(connections)\n",
    "        \n",
    "        aggregated = Graph('aggregated')\n",
    "        aggregated.set_nodes(subgraphs)\n",
    "        return aggregated\n",
    "    \n",
    "    def set_nodes(self, nodes):\n",
    "        self.nodes = nodes\n",
    "     \n",
    "    def add_node(self, node):\n",
    "        self.nodes.append(node)\n",
    "        \n",
    "    def remove_node(self, node):\n",
    "        try:\n",
    "            self.nodes.remove(node)\n",
    "        except ValueError:\n",
    "            print(\"no node \" + str(node) + \" in the graph\")\n",
    "    \n",
    "    def __str__(self):\n",
    "        return self.name\n",
    "    \n",
    "    def form_connection_matrix(self):\n",
    "        self.A = np.zeros((len(self.nodes), len(self.nodes)))\n",
    "        for i in range(len(self.nodes)):\n",
    "            \n",
    "            connection_nodes = list(self.nodes[i].connections.keys())\n",
    "            for j in range(len(self.nodes)):\n",
    "                self.A[i, j] = self.nodes[i].connections[self.nodes[j]] \\\n",
    "                if self.nodes[j] in connection_nodes else 0\n",
    "        \n",
    "        return self.A\n",
    "    \n",
    "    def update_values(self, nodes_values):\n",
    "        for node in self.nodes:\n",
    "            node.set_value(nodes_values[node])\n",
    "    \n",
    "    def send_impulses(self, impulses):\n",
    "        previous = np.zeros((len(self.nodes), 1))\n",
    "        current = np.array([[node.value] for node in self.nodes])\n",
    "        for impulse in impulses:\n",
    "            new = current + self.A.T @  (current - previous) + impulse\n",
    "            nodes_values = {self.nodes[i]: current[i, 0]   for i in range(len(self.nodes))}\n",
    "            previous = current\n",
    "            current = new\n",
    "            self.update_values(nodes_values)\n",
    "        print(current)\n",
    "        \n",
    "    def search_cycles(self):\n",
    "        cycles = set()\n",
    "        for node in self.nodes:\n",
    "            print(self.nodes.index(node))\n",
    "            layer = 0\n",
    "            vertexes = dict()\n",
    "            vertexes[layer] = set([node])\n",
    "            while layer < len(self.nodes):\n",
    "                nexts = set()\n",
    "                previous_layers = reduce(lambda x, y: x.union(y), list(vertexes.values())[: layer]) if layer > 0 else []\n",
    "                for vertex in vertexes[layer]:\n",
    "                    if vertex not in previous_layers:\n",
    "                        for next_vertex in vertex.connections.keys():\n",
    "                            nexts.add(next_vertex)\n",
    "                    else:\n",
    "                        nexts.add(vertex)\n",
    "                layer += 1\n",
    "                if nexts != set():\n",
    "                    vertexes[layer] = nexts\n",
    "                else:\n",
    "                    break  \n",
    "                \n",
    "            #for i in range(layer):\n",
    "            #    print(list(map(lambda val: str(val), vertexes[i])))\n",
    "            #print(\"----------\")\n",
    "            for length in range(1, len(vertexes)):\n",
    "                if node in vertexes[length]:\n",
    "                    additive = list(product(*[vertexes[i] for i in range(0, length)]))\n",
    "                    for cycle in additive:\n",
    "                        cycles.add(tuple(set(cycle)))\n",
    "        \n",
    "        for cycle in cycles:\n",
    "            print(list(map(lambda val: str(val), cycle)))\n",
    "            print(\"----------\")\n",
    "                #cycle = set()\n",
    "                #for layer in range(1, length):\n",
    "                #    cycle.add()\n",
    "            #for node in nod"
   ]
  },
  {
   "cell_type": "code",
   "execution_count": 5,
   "metadata": {
    "pycharm": {
     "is_executing": false
    }
   },
   "outputs": [],
   "source": [
    "class MainWindow(QMainWindow):\n",
    "\n",
    "    def __init__(self):\n",
    "\n",
    "        super(MainWindow, self).__init__()\n",
    "        likelyhood = 0.06\n",
    "        nods = [\n",
    "            Node(letter, number)\n",
    "            for letter, number in zip(\n",
    "                string.ascii_lowercase, range(len(string.ascii_lowercase)-10)\n",
    "            )\n",
    "        ]\n",
    "        for nod in nods:\n",
    "            nod.set_connections(\n",
    "                [\n",
    "                    [rand, x]\n",
    "                    for rand, x in zip(np.random.uniform(0, 1, len(nods)), nods)\n",
    "                    if np.random.binomial(1, likelyhood)\n",
    "                ]\n",
    "            )\n",
    "        \n",
    "        example_network = Graph(\"Example\")\n",
    "        example_network.set_nodes(nods)\n",
    "        example_network.form_connection_matrix();\n",
    "\n",
    "        netplot = NetworkXPlotter(example_network, layout=\"spectral\")\n",
    "        netplot.plot(\n",
    "            colorscale=\"sunset\",\n",
    "            edge_opacity=0.6,\n",
    "            edge_color=\"SlateGrey\",\n",
    "            node_opacity=1,\n",
    "            node_size=12,\n",
    "            edge_scale=3,\n",
    "            title = \"Cognitive network visualization<br>(wider edges have higher weights, bigger nodes have self edge)\",\n",
    "            fontsize = 12,\n",
    "            plot_text = True,\n",
    "            save_html = True,\n",
    "        )\n",
    "        # we create an instance of QWebEngineView and set the html code\n",
    "        plot_widget = QWebEngineView()\n",
    "        plot_widget.setHtml(netplot.html)\n",
    "        # set the QWebEngineView instance as main widget\n",
    "        self.setCentralWidget(plot_widget)"
   ]
  },
  {
   "cell_type": "code",
   "execution_count": 6,
   "metadata": {
    "pycharm": {
     "is_executing": false
    }
   },
   "outputs": [
    {
     "traceback": [
      "\u001b[0;31m---------------------------------------------------------------------------\u001b[0m",
      "\u001b[0;31mTypeError\u001b[0m                                 Traceback (most recent call last)",
      "\u001b[0;32m<ipython-input-6-a79b6f3111bb>\u001b[0m in \u001b[0;36m<module>\u001b[0;34m\u001b[0m\n\u001b[1;32m      1\u001b[0m \u001b[0mapp\u001b[0m \u001b[0;34m=\u001b[0m \u001b[0mQApplication\u001b[0m\u001b[0;34m(\u001b[0m\u001b[0;34m[\u001b[0m\u001b[0;34m]\u001b[0m\u001b[0;34m)\u001b[0m\u001b[0;34m\u001b[0m\u001b[0;34m\u001b[0m\u001b[0m\n\u001b[0;32m----> 2\u001b[0;31m \u001b[0mwindow\u001b[0m \u001b[0;34m=\u001b[0m \u001b[0mMainWindow\u001b[0m\u001b[0;34m(\u001b[0m\u001b[0;34m)\u001b[0m\u001b[0;34m\u001b[0m\u001b[0;34m\u001b[0m\u001b[0m\n\u001b[0m\u001b[1;32m      3\u001b[0m \u001b[0mwindow\u001b[0m\u001b[0;34m.\u001b[0m\u001b[0mshow\u001b[0m\u001b[0;34m(\u001b[0m\u001b[0;34m)\u001b[0m\u001b[0;34m\u001b[0m\u001b[0;34m\u001b[0m\u001b[0m\n\u001b[1;32m      4\u001b[0m \u001b[0mapp\u001b[0m\u001b[0;34m.\u001b[0m\u001b[0mexec_\u001b[0m\u001b[0;34m(\u001b[0m\u001b[0;34m)\u001b[0m\u001b[0;34m\u001b[0m\u001b[0;34m\u001b[0m\u001b[0m\n\u001b[1;32m      5\u001b[0m \u001b[0;34m\u001b[0m\u001b[0m\n",
      "\u001b[0;32m<ipython-input-5-a732abd713ed>\u001b[0m in \u001b[0;36m__init__\u001b[0;34m(self)\u001b[0m\n\u001b[1;32m     35\u001b[0m             \u001b[0mfontsize\u001b[0m \u001b[0;34m=\u001b[0m \u001b[0;36m12\u001b[0m\u001b[0;34m,\u001b[0m\u001b[0;34m\u001b[0m\u001b[0;34m\u001b[0m\u001b[0m\n\u001b[1;32m     36\u001b[0m             \u001b[0mplot_text\u001b[0m \u001b[0;34m=\u001b[0m \u001b[0;32mTrue\u001b[0m\u001b[0;34m,\u001b[0m\u001b[0;34m\u001b[0m\u001b[0;34m\u001b[0m\u001b[0m\n\u001b[0;32m---> 37\u001b[0;31m             \u001b[0msave_html\u001b[0m \u001b[0;34m=\u001b[0m \u001b[0;32mTrue\u001b[0m\u001b[0;34m,\u001b[0m\u001b[0;34m\u001b[0m\u001b[0;34m\u001b[0m\u001b[0m\n\u001b[0m\u001b[1;32m     38\u001b[0m         )\n\u001b[1;32m     39\u001b[0m         \u001b[0;31m# we create an instance of QWebEngineView and set the html code\u001b[0m\u001b[0;34m\u001b[0m\u001b[0;34m\u001b[0m\u001b[0;34m\u001b[0m\u001b[0m\n",
      "\u001b[0;31mTypeError\u001b[0m: plot() got an unexpected keyword argument 'save_html'"
     ],
     "ename": "TypeError",
     "evalue": "plot() got an unexpected keyword argument 'save_html'",
     "output_type": "error"
    }
   ],
   "source": [
    "app = QApplication([])\n",
    "window = MainWindow()\n",
    "window.show()\n",
    "app.exec_()"
   ]
  },
  {
   "cell_type": "code",
   "execution_count": null,
   "metadata": {
    "pycharm": {
     "is_executing": false
    }
   },
   "outputs": [],
   "source": []
  },
  {
   "cell_type": "code",
   "execution_count": null,
   "metadata": {
    "pycharm": {
     "is_executing": false
    }
   },
   "outputs": [],
   "source": []
  },
  {
   "cell_type": "code",
   "execution_count": null,
   "metadata": {
    "pycharm": {
     "is_executing": false
    }
   },
   "outputs": [],
   "source": []
  },
  {
   "cell_type": "code",
   "execution_count": null,
   "metadata": {
    "pycharm": {
     "is_executing": false
    }
   },
   "outputs": [],
   "source": []
  },
  {
   "cell_type": "code",
   "execution_count": null,
   "metadata": {
    "pycharm": {
     "is_executing": false
    }
   },
   "outputs": [],
   "source": []
  }
 ],
 "metadata": {
  "kernelspec": {
   "display_name": "Python 3",
   "language": "python",
   "name": "python3"
  },
  "language_info": {
   "codemirror_mode": {
    "name": "ipython",
    "version": 3
   },
   "file_extension": ".py",
   "mimetype": "text/x-python",
   "name": "python",
   "nbconvert_exporter": "python",
   "pygments_lexer": "ipython3",
   "version": "3.6.10"
  },
  "pycharm": {
   "stem_cell": {
    "cell_type": "raw",
    "source": [],
    "metadata": {
     "collapsed": false
    }
   }
  }
 },
 "nbformat": 4,
 "nbformat_minor": 4
}